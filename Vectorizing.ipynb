{
 "cells": [
  {
   "cell_type": "markdown",
   "id": "5066f42a-9aed-4711-bb41-4fa684ff81c1",
   "metadata": {},
   "source": [
    "# Vectorizing\n",
    " The goal is to convert a list of integers into a tensor of 0s and 1s using one-hot encoding."
   ]
  },
  {
   "cell_type": "code",
   "execution_count": 28,
   "id": "14e28626-f488-46b0-bd12-00571d331f29",
   "metadata": {},
   "outputs": [],
   "source": [
    "import numpy as np"
   ]
  },
  {
   "cell_type": "code",
   "execution_count": 29,
   "id": "3e0f94b9-ad53-445d-8140-79e62780d902",
   "metadata": {},
   "outputs": [],
   "source": [
    "train_data = [[3,5],[1,7,2,8],[5,9,6]]"
   ]
  },
  {
   "cell_type": "code",
   "execution_count": 30,
   "id": "50a991f7-e95d-46e9-a236-833d940ca9b8",
   "metadata": {},
   "outputs": [],
   "source": [
    "def vectorize_sequences(sequences, dimension=10):\n",
    "    results = np.zeros((len(sequences), dimension))\n",
    "    for i, sequence in enumerate(sequences):\n",
    "        results[i, sequence] = 1\n",
    "    return results"
   ]
  },
  {
   "cell_type": "code",
   "execution_count": 31,
   "id": "d9b3088b-a6fa-4a3c-a457-b74dcd19ff4f",
   "metadata": {},
   "outputs": [],
   "source": [
    "x_train = vectorize_sequences(train_data)"
   ]
  },
  {
   "cell_type": "code",
   "execution_count": 32,
   "id": "20093f02-58fd-4ed7-8023-7c2f04ec0eff",
   "metadata": {},
   "outputs": [
    {
     "data": {
      "text/plain": [
       "array([[0., 0., 0., 1., 0., 1., 0., 0., 0., 0.],\n",
       "       [0., 1., 1., 0., 0., 0., 0., 1., 1., 0.],\n",
       "       [0., 0., 0., 0., 0., 1., 1., 0., 0., 1.]])"
      ]
     },
     "execution_count": 32,
     "metadata": {},
     "output_type": "execute_result"
    }
   ],
   "source": [
    "x_train"
   ]
  },
  {
   "cell_type": "code",
   "execution_count": null,
   "id": "20d1b9b0-02d1-49fb-bd4d-2fb49b8883b7",
   "metadata": {},
   "outputs": [],
   "source": []
  }
 ],
 "metadata": {
  "kernelspec": {
   "display_name": "Python 3 (ipykernel)",
   "language": "python",
   "name": "python3"
  },
  "language_info": {
   "codemirror_mode": {
    "name": "ipython",
    "version": 3
   },
   "file_extension": ".py",
   "mimetype": "text/x-python",
   "name": "python",
   "nbconvert_exporter": "python",
   "pygments_lexer": "ipython3",
   "version": "3.9.19"
  }
 },
 "nbformat": 4,
 "nbformat_minor": 5
}
